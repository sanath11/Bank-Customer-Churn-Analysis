{
 "cells": [
  {
   "cell_type": "markdown",
   "metadata": {},
   "source": [
    "## Data Preprocessing"
   ]
  },
  {
   "cell_type": "code",
   "execution_count": 1,
   "metadata": {},
   "outputs": [],
   "source": [
    "# Importing the libraries\n",
    "import numpy as np\n",
    "import matplotlib.pyplot as plt\n",
    "import pandas as pd"
   ]
  },
  {
   "cell_type": "markdown",
   "metadata": {},
   "source": [
    "## Importing the dataset"
   ]
  },
  {
   "cell_type": "code",
   "execution_count": 3,
   "metadata": {},
   "outputs": [],
   "source": [
    "dataset = pd.read_csv('D:\\Courses\\Deep_Learning_A_Z\\Volume 1 - Supervised Deep Learning\\Part 1 - Artificial Neural Networks (ANN)\\Section 4 - Building an ANN\\Churn_Modelling.csv')\n",
    "X = dataset.iloc[:, 3:13].values\n",
    "y = dataset.iloc[:, 13].values"
   ]
  },
  {
   "cell_type": "markdown",
   "metadata": {},
   "source": [
    "## Encoding categorical data"
   ]
  },
  {
   "cell_type": "code",
   "execution_count": 4,
   "metadata": {},
   "outputs": [],
   "source": [
    "from sklearn.preprocessing import LabelEncoder, OneHotEncoder\n",
    "labelencoder_X_1 = LabelEncoder()\n",
    "X[:, 1] = labelencoder_X_1.fit_transform(X[:, 1])\n",
    "labelencoder_X_2 = LabelEncoder()\n",
    "X[:, 2] = labelencoder_X_2.fit_transform(X[:, 2])\n",
    "onehotencoder = OneHotEncoder(categorical_features = [1])\n",
    "X = onehotencoder.fit_transform(X).toarray()\n",
    "X = X[:, 1:]"
   ]
  },
  {
   "cell_type": "markdown",
   "metadata": {},
   "source": [
    "## Splitting the dataset into the Training set and Test set"
   ]
  },
  {
   "cell_type": "code",
   "execution_count": 5,
   "metadata": {},
   "outputs": [],
   "source": [
    "from sklearn.model_selection import train_test_split\n",
    "X_train, X_test, y_train, y_test = train_test_split(X, y, test_size = 0.2, random_state = 0)"
   ]
  },
  {
   "cell_type": "markdown",
   "metadata": {},
   "source": [
    "## Feature Scaling"
   ]
  },
  {
   "cell_type": "code",
   "execution_count": 6,
   "metadata": {},
   "outputs": [],
   "source": [
    "from sklearn.preprocessing import StandardScaler\n",
    "sc = StandardScaler()\n",
    "X_train = sc.fit_transform(X_train)\n",
    "X_test = sc.transform(X_test)"
   ]
  },
  {
   "cell_type": "markdown",
   "metadata": {},
   "source": [
    "## Importing the Keras libraries and packages"
   ]
  },
  {
   "cell_type": "code",
   "execution_count": 7,
   "metadata": {},
   "outputs": [
    {
     "name": "stderr",
     "output_type": "stream",
     "text": [
      "C:\\Users\\sanat\\Anaconda3\\envs\\tensorflow\\lib\\site-packages\\h5py\\__init__.py:36: FutureWarning: Conversion of the second argument of issubdtype from `float` to `np.floating` is deprecated. In future, it will be treated as `np.float64 == np.dtype(float).type`.\n",
      "  from ._conv import register_converters as _register_converters\n",
      "Using TensorFlow backend.\n"
     ]
    }
   ],
   "source": [
    "# Importing the Keras libraries and packages\n",
    "import keras\n",
    "from keras.models import Sequential\n",
    "from keras.layers import Dense"
   ]
  },
  {
   "cell_type": "markdown",
   "metadata": {},
   "source": [
    "## Initialising the Artificial Neural Network"
   ]
  },
  {
   "cell_type": "code",
   "execution_count": 9,
   "metadata": {},
   "outputs": [
    {
     "name": "stdout",
     "output_type": "stream",
     "text": [
      "Epoch 1/100\n",
      "8000/8000 [==============================] - 3s 320us/step - loss: 0.4938 - acc: 0.7955\n",
      "Epoch 2/100\n",
      "8000/8000 [==============================] - 1s 164us/step - loss: 0.4298 - acc: 0.7960\n",
      "Epoch 3/100\n",
      "8000/8000 [==============================] - 1s 161us/step - loss: 0.4252 - acc: 0.7960\n",
      "Epoch 4/100\n",
      "8000/8000 [==============================] - 1s 162us/step - loss: 0.4215 - acc: 0.8012\n",
      "Epoch 5/100\n",
      "8000/8000 [==============================] - 1s 163us/step - loss: 0.4181 - acc: 0.8219\n",
      "Epoch 6/100\n",
      "8000/8000 [==============================] - 1s 165us/step - loss: 0.4158 - acc: 0.8267\n",
      "Epoch 7/100\n",
      "8000/8000 [==============================] - 1s 163us/step - loss: 0.4147 - acc: 0.8307\n",
      "Epoch 8/100\n",
      "8000/8000 [==============================] - 1s 158us/step - loss: 0.4128 - acc: 0.8319\n",
      "Epoch 9/100\n",
      "8000/8000 [==============================] - 1s 173us/step - loss: 0.4115 - acc: 0.8310\n",
      "Epoch 10/100\n",
      "8000/8000 [==============================] - 1s 154us/step - loss: 0.4106 - acc: 0.8339\n",
      "Epoch 11/100\n",
      "8000/8000 [==============================] - 1s 144us/step - loss: 0.4097 - acc: 0.8340\n",
      "Epoch 12/100\n",
      "8000/8000 [==============================] - 1s 140us/step - loss: 0.4091 - acc: 0.8340\n",
      "Epoch 13/100\n",
      "8000/8000 [==============================] - 1s 143us/step - loss: 0.4081 - acc: 0.8346\n",
      "Epoch 14/100\n",
      "8000/8000 [==============================] - 1s 144us/step - loss: 0.4075 - acc: 0.8341\n",
      "Epoch 15/100\n",
      "8000/8000 [==============================] - 1s 145us/step - loss: 0.4072 - acc: 0.8332\n",
      "Epoch 16/100\n",
      "8000/8000 [==============================] - 1s 155us/step - loss: 0.4067 - acc: 0.8339\n",
      "Epoch 17/100\n",
      "8000/8000 [==============================] - 1s 157us/step - loss: 0.4063 - acc: 0.8342\n",
      "Epoch 18/100\n",
      "8000/8000 [==============================] - 1s 151us/step - loss: 0.4056 - acc: 0.8345\n",
      "Epoch 19/100\n",
      "8000/8000 [==============================] - 1s 148us/step - loss: 0.4056 - acc: 0.8350\n",
      "Epoch 20/100\n",
      "8000/8000 [==============================] - 1s 152us/step - loss: 0.4050 - acc: 0.8335\n",
      "Epoch 21/100\n",
      "8000/8000 [==============================] - 1s 151us/step - loss: 0.4047 - acc: 0.8346 1s - loss:\n",
      "Epoch 22/100\n",
      "8000/8000 [==============================] - 1s 153us/step - loss: 0.4044 - acc: 0.8345\n",
      "Epoch 23/100\n",
      "8000/8000 [==============================] - 1s 135us/step - loss: 0.4046 - acc: 0.8344\n",
      "Epoch 24/100\n",
      "8000/8000 [==============================] - 1s 160us/step - loss: 0.4039 - acc: 0.8341\n",
      "Epoch 25/100\n",
      "8000/8000 [==============================] - 1s 176us/step - loss: 0.4039 - acc: 0.8346\n",
      "Epoch 26/100\n",
      "8000/8000 [==============================] - 1s 165us/step - loss: 0.4035 - acc: 0.8341\n",
      "Epoch 27/100\n",
      "8000/8000 [==============================] - 1s 168us/step - loss: 0.4033 - acc: 0.8347\n",
      "Epoch 28/100\n",
      "8000/8000 [==============================] - 1s 162us/step - loss: 0.4034 - acc: 0.8331\n",
      "Epoch 29/100\n",
      "8000/8000 [==============================] - 1s 182us/step - loss: 0.4035 - acc: 0.8347\n",
      "Epoch 30/100\n",
      "8000/8000 [==============================] - 2s 201us/step - loss: 0.4033 - acc: 0.8344\n",
      "Epoch 31/100\n",
      "8000/8000 [==============================] - 2s 196us/step - loss: 0.4029 - acc: 0.8351\n",
      "Epoch 32/100\n",
      "8000/8000 [==============================] - 2s 189us/step - loss: 0.4029 - acc: 0.8342\n",
      "Epoch 33/100\n",
      "8000/8000 [==============================] - 1s 174us/step - loss: 0.4027 - acc: 0.8357\n",
      "Epoch 34/100\n",
      "8000/8000 [==============================] - 1s 153us/step - loss: 0.4026 - acc: 0.8359\n",
      "Epoch 35/100\n",
      "8000/8000 [==============================] - 1s 167us/step - loss: 0.4027 - acc: 0.8360\n",
      "Epoch 36/100\n",
      "8000/8000 [==============================] - 1s 154us/step - loss: 0.4028 - acc: 0.8352\n",
      "Epoch 37/100\n",
      "8000/8000 [==============================] - 1s 161us/step - loss: 0.4022 - acc: 0.8339\n",
      "Epoch 38/100\n",
      "8000/8000 [==============================] - 1s 157us/step - loss: 0.4023 - acc: 0.8347\n",
      "Epoch 39/100\n",
      "8000/8000 [==============================] - 1s 157us/step - loss: 0.4025 - acc: 0.8347\n",
      "Epoch 40/100\n",
      "8000/8000 [==============================] - 1s 159us/step - loss: 0.4017 - acc: 0.8340\n",
      "Epoch 41/100\n",
      "8000/8000 [==============================] - 1s 149us/step - loss: 0.4021 - acc: 0.8341\n",
      "Epoch 42/100\n",
      "8000/8000 [==============================] - 1s 154us/step - loss: 0.4020 - acc: 0.8341\n",
      "Epoch 43/100\n",
      "8000/8000 [==============================] - 1s 158us/step - loss: 0.4019 - acc: 0.8349\n",
      "Epoch 44/100\n",
      "8000/8000 [==============================] - 1s 161us/step - loss: 0.4017 - acc: 0.8340\n",
      "Epoch 45/100\n",
      "8000/8000 [==============================] - ETA: 0s - loss: 0.4022 - acc: 0.834 - 1s 151us/step - loss: 0.4018 - acc: 0.8342\n",
      "Epoch 46/100\n",
      "8000/8000 [==============================] - 1s 157us/step - loss: 0.4019 - acc: 0.8345\n",
      "Epoch 47/100\n",
      "8000/8000 [==============================] - 1s 155us/step - loss: 0.4014 - acc: 0.8340\n",
      "Epoch 48/100\n",
      "8000/8000 [==============================] - 1s 150us/step - loss: 0.4020 - acc: 0.8361\n",
      "Epoch 49/100\n",
      "8000/8000 [==============================] - 1s 156us/step - loss: 0.4015 - acc: 0.8344\n",
      "Epoch 50/100\n",
      "8000/8000 [==============================] - 1s 158us/step - loss: 0.4016 - acc: 0.8332\n",
      "Epoch 51/100\n",
      "8000/8000 [==============================] - 1s 151us/step - loss: 0.4017 - acc: 0.8347\n",
      "Epoch 52/100\n",
      "8000/8000 [==============================] - 1s 143us/step - loss: 0.4018 - acc: 0.8340\n",
      "Epoch 53/100\n",
      "8000/8000 [==============================] - 1s 147us/step - loss: 0.4011 - acc: 0.8354\n",
      "Epoch 54/100\n",
      "8000/8000 [==============================] - 1s 156us/step - loss: 0.4014 - acc: 0.8345\n",
      "Epoch 55/100\n",
      "8000/8000 [==============================] - 1s 156us/step - loss: 0.4015 - acc: 0.8351\n",
      "Epoch 56/100\n",
      "8000/8000 [==============================] - 1s 154us/step - loss: 0.4015 - acc: 0.8335\n",
      "Epoch 57/100\n",
      "8000/8000 [==============================] - 1s 156us/step - loss: 0.4017 - acc: 0.8349\n",
      "Epoch 58/100\n",
      "8000/8000 [==============================] - 1s 152us/step - loss: 0.4014 - acc: 0.8352\n",
      "Epoch 59/100\n",
      "8000/8000 [==============================] - 1s 159us/step - loss: 0.4014 - acc: 0.8344\n",
      "Epoch 60/100\n",
      "8000/8000 [==============================] - 1s 146us/step - loss: 0.4014 - acc: 0.8335\n",
      "Epoch 61/100\n",
      "8000/8000 [==============================] - 1s 149us/step - loss: 0.4016 - acc: 0.8341\n",
      "Epoch 62/100\n",
      "8000/8000 [==============================] - 1s 156us/step - loss: 0.4011 - acc: 0.8347\n",
      "Epoch 63/100\n",
      "8000/8000 [==============================] - 1s 154us/step - loss: 0.4011 - acc: 0.8346\n",
      "Epoch 64/100\n",
      "8000/8000 [==============================] - 1s 155us/step - loss: 0.4013 - acc: 0.8340\n",
      "Epoch 65/100\n",
      "8000/8000 [==============================] - 1s 155us/step - loss: 0.4014 - acc: 0.8341\n",
      "Epoch 66/100\n",
      "8000/8000 [==============================] - 1s 136us/step - loss: 0.4013 - acc: 0.8350\n",
      "Epoch 67/100\n",
      "8000/8000 [==============================] - 1s 145us/step - loss: 0.4007 - acc: 0.8351\n",
      "Epoch 68/100\n",
      "8000/8000 [==============================] - 1s 133us/step - loss: 0.4013 - acc: 0.8354\n",
      "Epoch 69/100\n",
      "8000/8000 [==============================] - 1s 151us/step - loss: 0.4015 - acc: 0.8340\n",
      "Epoch 70/100\n",
      "8000/8000 [==============================] - 1s 151us/step - loss: 0.4013 - acc: 0.8349\n",
      "Epoch 71/100\n",
      "8000/8000 [==============================] - 1s 157us/step - loss: 0.4011 - acc: 0.8341\n",
      "Epoch 72/100\n",
      "8000/8000 [==============================] - 1s 141us/step - loss: 0.4012 - acc: 0.8340\n",
      "Epoch 73/100\n",
      "8000/8000 [==============================] - 1s 144us/step - loss: 0.4014 - acc: 0.8341\n",
      "Epoch 74/100\n",
      "8000/8000 [==============================] - 1s 149us/step - loss: 0.4013 - acc: 0.8346\n",
      "Epoch 75/100\n",
      "8000/8000 [==============================] - 1s 147us/step - loss: 0.4009 - acc: 0.8346\n",
      "Epoch 76/100\n",
      "8000/8000 [==============================] - 1s 151us/step - loss: 0.4012 - acc: 0.8337\n",
      "Epoch 77/100\n",
      "8000/8000 [==============================] - 1s 149us/step - loss: 0.4014 - acc: 0.8351\n",
      "Epoch 78/100\n",
      "8000/8000 [==============================] - 1s 130us/step - loss: 0.4010 - acc: 0.8344\n",
      "Epoch 79/100\n",
      "8000/8000 [==============================] - 1s 147us/step - loss: 0.4011 - acc: 0.8336\n",
      "Epoch 80/100\n",
      "8000/8000 [==============================] - 1s 153us/step - loss: 0.4013 - acc: 0.8341\n",
      "Epoch 81/100\n"
     ]
    },
    {
     "name": "stdout",
     "output_type": "stream",
     "text": [
      "8000/8000 [==============================] - 1s 152us/step - loss: 0.4013 - acc: 0.8344\n",
      "Epoch 82/100\n",
      "8000/8000 [==============================] - 1s 157us/step - loss: 0.4012 - acc: 0.8347\n",
      "Epoch 83/100\n",
      "8000/8000 [==============================] - 1s 140us/step - loss: 0.4013 - acc: 0.8350\n",
      "Epoch 84/100\n",
      "8000/8000 [==============================] - 1s 167us/step - loss: 0.4012 - acc: 0.8334\n",
      "Epoch 85/100\n",
      "8000/8000 [==============================] - 1s 169us/step - loss: 0.4009 - acc: 0.8334\n",
      "Epoch 86/100\n",
      "8000/8000 [==============================] - 1s 154us/step - loss: 0.4011 - acc: 0.8341\n",
      "Epoch 87/100\n",
      "8000/8000 [==============================] - 1s 167us/step - loss: 0.4012 - acc: 0.8334\n",
      "Epoch 88/100\n",
      "8000/8000 [==============================] - 1s 152us/step - loss: 0.4009 - acc: 0.8347\n",
      "Epoch 89/100\n",
      "8000/8000 [==============================] - 1s 170us/step - loss: 0.4011 - acc: 0.8335\n",
      "Epoch 90/100\n",
      "8000/8000 [==============================] - 1s 169us/step - loss: 0.4013 - acc: 0.8342\n",
      "Epoch 91/100\n",
      "8000/8000 [==============================] - 1s 137us/step - loss: 0.4010 - acc: 0.8346\n",
      "Epoch 92/100\n",
      "8000/8000 [==============================] - 1s 175us/step - loss: 0.4006 - acc: 0.8334\n",
      "Epoch 93/100\n",
      "8000/8000 [==============================] - 1s 153us/step - loss: 0.4010 - acc: 0.8337\n",
      "Epoch 94/100\n",
      "8000/8000 [==============================] - 1s 165us/step - loss: 0.4006 - acc: 0.8345\n",
      "Epoch 95/100\n",
      "8000/8000 [==============================] - 1s 151us/step - loss: 0.4011 - acc: 0.8336\n",
      "Epoch 96/100\n",
      "8000/8000 [==============================] - 1s 168us/step - loss: 0.4010 - acc: 0.8332\n",
      "Epoch 97/100\n",
      "8000/8000 [==============================] - 2s 195us/step - loss: 0.4013 - acc: 0.8346\n",
      "Epoch 98/100\n",
      "8000/8000 [==============================] - 2s 190us/step - loss: 0.4011 - acc: 0.8334\n",
      "Epoch 99/100\n",
      "8000/8000 [==============================] - 2s 195us/step - loss: 0.4009 - acc: 0.8350\n",
      "Epoch 100/100\n",
      "8000/8000 [==============================] - 1s 180us/step - loss: 0.4006 - acc: 0.8357\n"
     ]
    },
    {
     "data": {
      "text/plain": [
       "<keras.callbacks.History at 0x2475c2c4278>"
      ]
     },
     "execution_count": 9,
     "metadata": {},
     "output_type": "execute_result"
    }
   ],
   "source": [
    "classifier = Sequential()\n",
    "# Adding the input layer and the first hidden layer\n",
    "classifier.add(Dense(units = 6, kernel_initializer = 'uniform', activation = 'relu', input_dim = 11))\n",
    "# Adding the second hidden layer\n",
    "classifier.add(Dense(units = 6, kernel_initializer = 'uniform', activation = 'relu'))\n",
    "# Adding the output layer\n",
    "classifier.add(Dense(units = 1, kernel_initializer = 'uniform', activation = 'sigmoid'))\n",
    "# Compiling the ANN\n",
    "classifier.compile(optimizer = 'adam', loss = 'binary_crossentropy', metrics = ['accuracy'])\n",
    "# Fitting the ANN to the Training set\n",
    "classifier.fit(X_train, y_train, batch_size = 10, epochs = 100)"
   ]
  },
  {
   "cell_type": "markdown",
   "metadata": {},
   "source": [
    "## Predicting the Test set results"
   ]
  },
  {
   "cell_type": "code",
   "execution_count": 10,
   "metadata": {},
   "outputs": [],
   "source": [
    "y_pred = classifier.predict(X_test)\n",
    "y_pred = (y_pred > 0.5)"
   ]
  },
  {
   "cell_type": "markdown",
   "metadata": {},
   "source": [
    "## Confusion Matrix"
   ]
  },
  {
   "cell_type": "code",
   "execution_count": 11,
   "metadata": {},
   "outputs": [
    {
     "data": {
      "text/plain": [
       "array([[1536,   59],\n",
       "       [ 260,  145]], dtype=int64)"
      ]
     },
     "execution_count": 11,
     "metadata": {},
     "output_type": "execute_result"
    }
   ],
   "source": [
    "from sklearn.metrics import confusion_matrix\n",
    "cm = confusion_matrix(y_test, y_pred)\n",
    "cm"
   ]
  },
  {
   "cell_type": "markdown",
   "metadata": {},
   "source": [
    "## Accuracy score"
   ]
  },
  {
   "cell_type": "code",
   "execution_count": 12,
   "metadata": {},
   "outputs": [
    {
     "data": {
      "text/plain": [
       "0.8405"
      ]
     },
     "execution_count": 12,
     "metadata": {},
     "output_type": "execute_result"
    }
   ],
   "source": [
    "from sklearn.metrics import accuracy_score\n",
    "accuracy_score(y_test,y_pred)"
   ]
  }
 ],
 "metadata": {
  "kernelspec": {
   "display_name": "Python 3",
   "language": "python",
   "name": "python3"
  },
  "language_info": {
   "codemirror_mode": {
    "name": "ipython",
    "version": 3
   },
   "file_extension": ".py",
   "mimetype": "text/x-python",
   "name": "python",
   "nbconvert_exporter": "python",
   "pygments_lexer": "ipython3",
   "version": "3.5.5"
  }
 },
 "nbformat": 4,
 "nbformat_minor": 2
}
